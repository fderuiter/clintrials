{
 "cells": [
  {
   "cell_type": "markdown",
   "metadata": {},
   "source": [
    "# EffTox - General Usage"
   ]
  },
  {
   "cell_type": "markdown",
   "metadata": {},
   "source": [
    "This IPython notebook illustrates the use of the `EffTox` class in the `clintrials` package.\n",
    "\n",
    "The design was first published:\n",
    "\n",
    "- Thall & Cook in 2004, _Dose-Finding Based on Efficacy-Toxicity Trade-Offs_, Biometrics vol 60, issue 3.\n",
    "\n",
    "Follow-up publications were:\n",
    "\n",
    "- Thall, Cook & Estey, 2006, _Adaptive dose selection using efficacy-toxicity trade-offs: illustrations and practical considerations_ \n",
    "- Cook, 2006, _Efficacy-Toxicity trade-offs based on L-p norms Technical Report UTMDABTR-003-06 Bivariate binary model_."
   ]
  },
  {
   "cell_type": "code",
   "execution_count": 1,
   "metadata": {
    "collapsed": true
   },
   "outputs": [],
   "source": [
    "import numpy as np\n",
    "from scipy.stats import norm\n",
    "\n",
    "from clintrials.dosefinding.efftox import EffTox, LpNormCurve, scale_doses"
   ]
  },
  {
   "cell_type": "code",
   "execution_count": 2,
   "metadata": {
    "collapsed": true
   },
   "outputs": [],
   "source": [
    "real_doses = [7.5, 15, 30, 45]\n",
    "dose_indices = range(1, len(real_doses)+1)\n",
    "trial_size = 30\n",
    "cohort_size = 3\n",
    "first_dose = 3"
   ]
  },
  {
   "cell_type": "code",
   "execution_count": 3,
   "metadata": {
    "collapsed": true
   },
   "outputs": [],
   "source": [
    "prior_tox_probs = (0.025, 0.05, 0.1, 0.25)\n",
    "prior_eff_probs = (0.2, 0.3, 0.5, 0.6)\n",
    "tox_cutoff = 0.40\n",
    "eff_cutoff = 0.45\n",
    "tox_certainty = 0.05\n",
    "eff_certainty = 0.05  # The original Matchpoint implementation. Later changed to 0.03"
   ]
  },
  {
   "cell_type": "markdown",
   "metadata": {},
   "source": [
    "The priors below correspond to ESS=1.3 and were calculated using v4.0.12 of the EffTox, available at https://biostatistics.mdanderson.org/softwaredownload/SingleSoftware.aspx?Software_Id=2\n",
    "\n",
    "Ideally, clintrials should include the algorithm to calculate priors but I have not written it yet. KB"
   ]
  },
  {
   "cell_type": "code",
   "execution_count": 4,
   "metadata": {
    "collapsed": true
   },
   "outputs": [],
   "source": [
    "mu_t_mean, mu_t_sd = -5.4317, 2.7643\n",
    "beta_t_mean, beta_t_sd = 3.1761, 2.7703\n",
    "mu_e_mean, mu_e_sd = -0.8442, 1.9786\n",
    "beta_e_1_mean, beta_e_1_sd = 1.9857, 1.9820\n",
    "beta_e_2_mean, beta_e_2_sd = 0, 0.2\n",
    "psi_mean, psi_sd = 0, 1\n",
    "efftox_priors = [\n",
    "    norm(loc=mu_t_mean, scale=mu_t_sd),\n",
    "    norm(loc=beta_t_mean, scale=beta_t_sd),\n",
    "    norm(loc=mu_e_mean, scale=mu_e_sd),\n",
    "    norm(loc=beta_e_1_mean, scale=beta_e_1_sd),\n",
    "    norm(loc=beta_e_2_mean, scale=beta_e_2_sd),\n",
    "    norm(loc=psi_mean, scale=psi_sd),\n",
    "    ]"
   ]
  },
  {
   "cell_type": "markdown",
   "metadata": {},
   "source": [
    "The metric is the object that calculates the utility of a $(\\pi_E, \\pi_T)$ pair. The hinge points are the three elicited points of equal utility used to identify the curve, as explained in Thall & Cook, 2004."
   ]
  },
  {
   "cell_type": "code",
   "execution_count": 5,
   "metadata": {
    "collapsed": true
   },
   "outputs": [],
   "source": [
    "hinge_points = [(0.4, 0), (1, 0.7), (0.5, 0.4)]\n",
    "metric = LpNormCurve(hinge_points[0][0], hinge_points[1][1], hinge_points[2][0], hinge_points[2][1])"
   ]
  },
  {
   "cell_type": "markdown",
   "metadata": {},
   "source": [
    "Finally, the EffTox instance is created:"
   ]
  },
  {
   "cell_type": "code",
   "execution_count": 6,
   "metadata": {
    "collapsed": true
   },
   "outputs": [],
   "source": [
    "et = EffTox(real_doses, efftox_priors, tox_cutoff, eff_cutoff, tox_certainty, eff_certainty, metric, trial_size,\n",
    "            first_dose)"
   ]
  },
  {
   "cell_type": "markdown",
   "metadata": {},
   "source": [
    "The EffTox object does all the work. For instance, consider the scenario where three patients are given dose-level 3:\n",
    "\n",
    "- The first patient has both toxicity and efficacy. This is represented by the tuple (3, 1, 1)\n",
    "- The second has efficacy without toxicity. This is represented by the tuple (3, 0, 1)\n",
    "- The third has toxicity without efficacy. This is represented by the tuple (3, 1, 0)\n",
    "\n",
    "Putting that information into a list:"
   ]
  },
  {
   "cell_type": "code",
   "execution_count": 7,
   "metadata": {
    "collapsed": true
   },
   "outputs": [],
   "source": [
    "cases = [(3, 1, 1), (3, 0, 1), (3, 1, 0)]"
   ]
  },
  {
   "cell_type": "markdown",
   "metadata": {},
   "source": [
    "and updating the model with 1,000,000 points in the posterior integral:"
   ]
  },
  {
   "cell_type": "code",
   "execution_count": 8,
   "metadata": {
    "collapsed": false
   },
   "outputs": [
    {
     "data": {
      "text/plain": [
       "3"
      ]
     },
     "execution_count": 8,
     "metadata": {},
     "output_type": "execute_result"
    }
   ],
   "source": [
    "np.random.seed(123)\n",
    "et.reset()\n",
    "next_dose = et.update(cases, n=10**6)\n",
    "next_dose"
   ]
  },
  {
   "cell_type": "markdown",
   "metadata": {},
   "source": [
    "We can take a look at the posterior beliefs on the efficacy probabilities at each dose:"
   ]
  },
  {
   "cell_type": "code",
   "execution_count": 9,
   "metadata": {
    "collapsed": false
   },
   "outputs": [
    {
     "data": {
      "text/plain": [
       "(0.22909895137983396,\n",
       " 0.35053241690829945,\n",
       " 0.61568794872530819,\n",
       " 0.74353588349370703)"
      ]
     },
     "execution_count": 9,
     "metadata": {},
     "output_type": "execute_result"
    }
   ],
   "source": [
    "et.prob_eff"
   ]
  },
  {
   "cell_type": "markdown",
   "metadata": {},
   "source": [
    "and the toxicity probabilities:"
   ]
  },
  {
   "cell_type": "code",
   "execution_count": 10,
   "metadata": {
    "collapsed": false
   },
   "outputs": [
    {
     "data": {
      "text/plain": [
       "(0.058092319375473135,\n",
       " 0.11712850384219034,\n",
       " 0.50566447565218831,\n",
       " 0.784448543115147)"
      ]
     },
     "execution_count": 10,
     "metadata": {},
     "output_type": "execute_result"
    }
   ],
   "source": [
    "et.prob_tox"
   ]
  },
  {
   "cell_type": "markdown",
   "metadata": {},
   "source": [
    "and the probabilities that each dose satisfies the criteria for admissability, i.e. is _probably efficable_ and _probably tolerable_:"
   ]
  },
  {
   "cell_type": "code",
   "execution_count": 13,
   "metadata": {
    "collapsed": false
   },
   "outputs": [
    {
     "data": {
      "text/plain": [
       "(0.21059875566520109,\n",
       " 0.32883237208689137,\n",
       " 0.73876174765358893,\n",
       " 0.88580738404486803)"
      ]
     },
     "execution_count": 13,
     "metadata": {},
     "output_type": "execute_result"
    }
   ],
   "source": [
    "et.prob_acc_eff"
   ]
  },
  {
   "cell_type": "code",
   "execution_count": 14,
   "metadata": {
    "collapsed": false
   },
   "outputs": [
    {
     "data": {
      "text/plain": [
       "(0.94719263840884738,\n",
       " 0.91318557813996248,\n",
       " 0.35877428485481755,\n",
       " 0.083172938628579329)"
      ]
     },
     "execution_count": 14,
     "metadata": {},
     "output_type": "execute_result"
    }
   ],
   "source": [
    " et.prob_acc_tox"
   ]
  },
  {
   "cell_type": "markdown",
   "metadata": {},
   "source": [
    "We see that all doses admissable.\n",
    "\n",
    "For confirmation:"
   ]
  },
  {
   "cell_type": "code",
   "execution_count": 15,
   "metadata": {
    "collapsed": false
   },
   "outputs": [
    {
     "data": {
      "text/plain": [
       "[1, 2, 3, 4]"
      ]
     },
     "execution_count": 15,
     "metadata": {},
     "output_type": "execute_result"
    }
   ],
   "source": [
    "et.admissable_set()"
   ]
  },
  {
   "cell_type": "markdown",
   "metadata": {},
   "source": [
    "Of course, there are only three observations in the trial. Not many at all. Let's add some data for twelve more patients.\n",
    "\n",
    "The EffTox class remembers the cases it has already seen and adds to those when you call `update`."
   ]
  },
  {
   "cell_type": "code",
   "execution_count": 16,
   "metadata": {
    "collapsed": true
   },
   "outputs": [],
   "source": [
    "cases = [\n",
    "    (3, 0, 0), (3, 0, 1), (3, 1, 0),\n",
    "    (4, 1, 1), (4, 1, 1), (4, 0, 0),\n",
    "    (3, 1, 0), (3, 1, 1), (3, 0, 1),\n",
    "    (2, 0, 0), (2, 0, 0), (2, 0, 1),\n",
    "    ]"
   ]
  },
  {
   "cell_type": "code",
   "execution_count": 17,
   "metadata": {
    "collapsed": false
   },
   "outputs": [
    {
     "data": {
      "text/plain": [
       "3"
      ]
     },
     "execution_count": 17,
     "metadata": {},
     "output_type": "execute_result"
    }
   ],
   "source": [
    "et.update(cases, n=10**6)"
   ]
  },
  {
   "cell_type": "markdown",
   "metadata": {},
   "source": [
    "Confirmation that dose-level 3 is the dose with highest utility:"
   ]
  },
  {
   "cell_type": "code",
   "execution_count": 18,
   "metadata": {
    "collapsed": false
   },
   "outputs": [
    {
     "data": {
      "text/plain": [
       "array([-0.34514655, -0.14333504,  0.04748648, -0.22267541])"
      ]
     },
     "execution_count": 18,
     "metadata": {},
     "output_type": "execute_result"
    }
   ],
   "source": [
    "et.utility"
   ]
  },
  {
   "cell_type": "markdown",
   "metadata": {},
   "source": [
    "The trial has more data in it now:"
   ]
  },
  {
   "cell_type": "code",
   "execution_count": 19,
   "metadata": {
    "collapsed": false
   },
   "outputs": [
    {
     "data": {
      "text/plain": [
       "15"
      ]
     },
     "execution_count": 19,
     "metadata": {},
     "output_type": "execute_result"
    }
   ],
   "source": [
    "et.size()"
   ]
  },
  {
   "cell_type": "markdown",
   "metadata": {},
   "source": [
    "Notice that the sample size is 15 and not 12? This is because calls to the `update` method are cumulative, i.e. the EffTox class also includes the original three outcomes. To make an instance of EffTox forget what it knows and start afresh, use `et.reset()`\n",
    "\n",
    "We have now explored more doses:"
   ]
  },
  {
   "cell_type": "code",
   "execution_count": 20,
   "metadata": {
    "collapsed": false
   },
   "outputs": [
    {
     "data": {
      "text/html": [
       "<div>\n",
       "<table border=\"1\" class=\"dataframe\">\n",
       "  <thead>\n",
       "    <tr style=\"text-align: right;\">\n",
       "      <th></th>\n",
       "      <th>Dose</th>\n",
       "      <th>N</th>\n",
       "      <th>Efficacies</th>\n",
       "      <th>Toxicities</th>\n",
       "      <th>EffRate</th>\n",
       "      <th>ToxRate</th>\n",
       "      <th>P(Eff)</th>\n",
       "      <th>P(Tox)</th>\n",
       "      <th>P(AccEff)</th>\n",
       "      <th>Admissible</th>\n",
       "      <th>Utility</th>\n",
       "    </tr>\n",
       "  </thead>\n",
       "  <tbody>\n",
       "    <tr>\n",
       "      <th>0</th>\n",
       "      <td>1</td>\n",
       "      <td>0</td>\n",
       "      <td>0</td>\n",
       "      <td>0</td>\n",
       "      <td>NaN</td>\n",
       "      <td>NaN</td>\n",
       "      <td>0.193076</td>\n",
       "      <td>0.021982</td>\n",
       "      <td>0.988234</td>\n",
       "      <td>True</td>\n",
       "      <td>-0.345147</td>\n",
       "    </tr>\n",
       "    <tr>\n",
       "      <th>1</th>\n",
       "      <td>2</td>\n",
       "      <td>3</td>\n",
       "      <td>1</td>\n",
       "      <td>0</td>\n",
       "      <td>0.333333</td>\n",
       "      <td>0.000000</td>\n",
       "      <td>0.316629</td>\n",
       "      <td>0.077165</td>\n",
       "      <td>0.983566</td>\n",
       "      <td>True</td>\n",
       "      <td>-0.143335</td>\n",
       "    </tr>\n",
       "    <tr>\n",
       "      <th>2</th>\n",
       "      <td>3</td>\n",
       "      <td>9</td>\n",
       "      <td>5</td>\n",
       "      <td>5</td>\n",
       "      <td>0.555556</td>\n",
       "      <td>0.555556</td>\n",
       "      <td>0.573047</td>\n",
       "      <td>0.454695</td>\n",
       "      <td>0.326676</td>\n",
       "      <td>True</td>\n",
       "      <td>0.047486</td>\n",
       "    </tr>\n",
       "    <tr>\n",
       "      <th>3</th>\n",
       "      <td>4</td>\n",
       "      <td>3</td>\n",
       "      <td>2</td>\n",
       "      <td>2</td>\n",
       "      <td>0.666667</td>\n",
       "      <td>0.666667</td>\n",
       "      <td>0.716609</td>\n",
       "      <td>0.795794</td>\n",
       "      <td>0.031800</td>\n",
       "      <td>False</td>\n",
       "      <td>-0.222675</td>\n",
       "    </tr>\n",
       "  </tbody>\n",
       "</table>\n",
       "</div>"
      ],
      "text/plain": [
       "   Dose  N  Efficacies  Toxicities   EffRate   ToxRate    P(Eff)    P(Tox)  \\\n",
       "0     1  0           0           0       NaN       NaN  0.193076  0.021982   \n",
       "1     2  3           1           0  0.333333  0.000000  0.316629  0.077165   \n",
       "2     3  9           5           5  0.555556  0.555556  0.573047  0.454695   \n",
       "3     4  3           2           2  0.666667  0.666667  0.716609  0.795794   \n",
       "\n",
       "   P(AccEff) Admissible   Utility  \n",
       "0   0.988234       True -0.345147  \n",
       "1   0.983566       True -0.143335  \n",
       "2   0.326676       True  0.047486  \n",
       "3   0.031800      False -0.222675  "
      ]
     },
     "execution_count": 20,
     "metadata": {},
     "output_type": "execute_result"
    }
   ],
   "source": [
    "et.tabulate()"
   ]
  },
  {
   "cell_type": "markdown",
   "metadata": {},
   "source": [
    "so we have a bit more faith in posterior beliefs:"
   ]
  },
  {
   "cell_type": "code",
   "execution_count": 18,
   "metadata": {
    "collapsed": false
   },
   "outputs": [
    {
     "data": {
      "text/plain": [
       "(0.17741533076916405,\n",
       " 0.2975076349271551,\n",
       " 0.55450648405387493,\n",
       " 0.70230005873667289)"
      ]
     },
     "execution_count": 18,
     "metadata": {},
     "output_type": "execute_result"
    }
   ],
   "source": [
    "et.prob_eff"
   ]
  },
  {
   "cell_type": "markdown",
   "metadata": {},
   "source": [
    "If ggplot is available, we can look at estimates of the posterior densities of utility, efficacy probability and toxicity probability.\n",
    "\n",
    "For instance:"
   ]
  },
  {
   "cell_type": "code",
   "execution_count": 19,
   "metadata": {
    "collapsed": true
   },
   "outputs": [],
   "source": [
    "import ggplot"
   ]
  },
  {
   "cell_type": "code",
   "execution_count": 20,
   "metadata": {
    "collapsed": true
   },
   "outputs": [],
   "source": [
    "%matplotlib inline"
   ]
  },
  {
   "cell_type": "code",
   "execution_count": 21,
   "metadata": {
    "collapsed": false
   },
   "outputs": [
    {
     "data": {
      "image/png": "[encoded data removed]",
      "text/plain": [
       "<matplotlib.figure.Figure at 0x10dc5a990>"
      ]
     },
     "metadata": {},
     "output_type": "display_data"
    },
    {
     "data": {
      "text/plain": [
       "<ggplot: (282876473)>"
      ]
     },
     "execution_count": 21,
     "metadata": {},
     "output_type": "execute_result"
    }
   ],
   "source": [
    "et.plot_posterior_utility_density()"
   ]
  },
  {
   "cell_type": "markdown",
   "metadata": {},
   "source": [
    "We see that dose-level 3 has the highest utility, quite comfortably.\n",
    "\n",
    "Posterior mean estimates of the parameter vector $\\theta$ are available:"
   ]
  },
  {
   "cell_type": "code",
   "execution_count": 22,
   "metadata": {
    "collapsed": false
   },
   "outputs": [
    {
     "data": {
      "text/plain": [
       "[(-2.1198391463454924,\n",
       "  4.4371729478088291,\n",
       "  -0.51811568490241766,\n",
       "  1.7487101532635487,\n",
       "  0.0024753454343415444,\n",
       "  -0.9697855135784671)]"
      ]
     },
     "execution_count": 22,
     "metadata": {},
     "output_type": "execute_result"
    }
   ],
   "source": [
    "et.posterior_params(n=10**6)"
   ]
  },
  {
   "cell_type": "markdown",
   "metadata": {},
   "source": [
    "Kristian Brock, Sep 2015."
   ]
  },
  {
   "cell_type": "code",
   "execution_count": null,
   "metadata": {
    "collapsed": true
   },
   "outputs": [],
   "source": []
  }
 ],
 "metadata": {
  "anaconda-cloud": {},
  "kernelspec": {
   "display_name": "Python 2",
   "language": "python",
   "name": "python2"
  },
  "language_info": {
   "codemirror_mode": {
    "name": "ipython",
    "version": 2
   },
   "file_extension": ".py",
   "mimetype": "text/x-python",
   "name": "python",
   "nbconvert_exporter": "python",
   "pygments_lexer": "ipython2",
   "version": "2.7.11"
  }
 },
 "nbformat": 4,
 "nbformat_minor": 0
}
