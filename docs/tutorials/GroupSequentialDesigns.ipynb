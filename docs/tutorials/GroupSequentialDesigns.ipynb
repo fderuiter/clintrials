{
 "cells": [
  {
   "cell_type": "markdown",
   "metadata": {},
   "source": [
    "# Designing a Group Sequential Trial\n",
    "\n",
    "This notebook demonstrates how to use the `GroupSequentialDesign` class to design and analyze a group sequential trial."
   ]
  },
  {
   "cell_type": "code",
   "execution_count": null,
   "metadata": {},
   "outputs": [],
   "source": [
    "import numpy as np\n",
    "import matplotlib.pyplot as plt\n",
    "from clintrials.phase3.gsd import GroupSequentialDesign, spending_function_obrien_fleming, spending_function_pocock"
   ]
  },
  {
   "cell_type": "markdown",
   "metadata": {},
   "source": [
    "## 1. Creating an O'Brien-Fleming Design\n",
    "\n",
    "Let's start by creating a classic O'Brien-Fleming design with 4 looks and a one-sided alpha of 0.025."
   ]
  },
  {
   "cell_type": "code",
   "execution_count": null,
   "metadata": {},
   "outputs": [],
   "source": [
    "k = 4\n",
    "alpha = 0.025\n",
    "\n",
    "of_design = GroupSequentialDesign(k=k, alpha=alpha, sfu=spending_function_obrien_fleming)\n",
    "\n",
    "print(f\"O'Brien-Fleming Boundaries (k={k}):\")\n",
    "for i, boundary in enumerate(of_design.efficacy_boundaries):\n",
    "    print(f\"  Look {i+1}: {boundary:.3f}\")"
   ]
  },
  {
   "cell_type": "markdown",
   "metadata": {},
   "source": [
    "## 2. Simulating Operating Characteristics\n",
    "\n",
    "We can simulate trials to check the design's operating characteristics, such as the Type I error rate and power."
   ]
  },
  {
   "cell_type": "markdown",
   "metadata": {},
   "source": [
    "### Type I Error (under the null hypothesis, theta = 0)"
   ]
  },
  {
   "cell_type": "code",
   "execution_count": null,
   "metadata": {},
   "outputs": [],
   "source": [
    "n_sims = 50000\n",
    "results_null = of_design.simulate(n_sims=n_sims, theta=0)\n",
    "\n",
    "print(f\"Simulated Type I Error: {results_null['rejection_prob']:.4f} (target: {alpha})\")"
   ]
  },
  {
   "cell_type": "markdown",
   "metadata": {},
   "source": [
    "### Power (under an alternative hypothesis)\n",
    "\n",
    "To calculate power, we need to specify an effect size, `theta`. For a typical design aiming for 80% or 90% power, `theta` is usually around 2.5 to 3.0. Let's find the `theta` that gives approximately 90% power."
   ]
  },
  {
   "cell_type": "code",
   "execution_count": null,
   "metadata": {},
   "outputs": [],
   "source": [
    "# This theta corresponds to the boundary of a fixed-sample design with 90% power.\n",
    "theta_90_power = np.abs(np.random.normal(loc=0, scale=1) - 1.282) # Z_alpha + Z_beta\n",
    "theta_90_power = 2.5 # A common value for 90% power\n",
    "\n",
    "results_alt = of_design.simulate(n_sims=n_sims, theta=theta_90_power)\n",
    "\n",
    "print(f\"Simulated Power for theta={theta_90_power}: {results_alt['rejection_prob']:.4f}\")\n",
    "print(f\"Expected Information: {results_alt['expected_info']:.3f}\")"
   ]
  },
  {
   "cell_type": "markdown",
   "metadata": {},
   "source": [
    "## 3. Visualizing the Boundaries"
   ]
  },
  {
   "cell_type": "code",
   "execution_count": null,
   "metadata": {},
   "outputs": [],
   "source": [
    "plt.figure(figsize=(8, 5))\n",
    "plt.plot(of_design.timing, of_design.efficacy_boundaries, 'o-', label=\"O'Brien-Fleming Efficacy Boundary\")\n",
    "\n",
    "plt.title('Group Sequential Design Boundaries')\n",
    "plt.xlabel('Information Fraction')\n",
    "plt.ylabel('Z-score')\n",
    "plt.grid(True, linestyle='--', alpha=0.6)\n",
    "plt.legend()\n",
    "plt.show()"
   ]
  }
 ],
 "metadata": {
  "kernelspec": {
   "display_name": "Python 3",
   "language": "python",
   "name": "python3"
  },
  "language_info": {
   "codemirror_mode": {
    "name": "ipython",
    "version": 3
   },
   "file_extension": ".py",
   "mimetype": "text/x-python",
   "name": "python",
   "nbconvert_exporter": "python",
   "pygments_lexer": "ipython3",
   "version": "3.9.7"
  }
 },
 "nbformat": 4,
 "nbformat_minor": 4
}
