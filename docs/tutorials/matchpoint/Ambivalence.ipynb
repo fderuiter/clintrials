{
 "cells": [
  {
   "cell_type": "markdown",
   "metadata": {
    "collapsed": true
   },
   "source": [
    "# Implementing the EffTox Dose-Finding Design in the Matchpoint Trials"
   ]
  },
  {
   "cell_type": "markdown",
   "metadata": {},
   "source": [
    "This tutorial complements the manuscript _Implementing the EffTox Dose-Finding Design in the Matchpoint Trial_ (Brock _et al_.,in submission). Please consult the paper for the clinical background, the methodology details, and full explanation of the terminology."
   ]
  },
  {
   "cell_type": "markdown",
   "metadata": {},
   "source": [
    "## Dose Ambivalence"
   ]
  },
  {
   "cell_type": "markdown",
   "metadata": {},
   "source": [
    "In this notebook, we illustrate the phenomenon of _dose ambivalence_ using the EffTox design in the seamless phase I/II dose-finding clinical trial, Matchpoint."
   ]
  },
  {
   "cell_type": "code",
   "execution_count": 49,
   "metadata": {
    "collapsed": false
   },
   "outputs": [],
   "source": [
    "import numpy as np\n",
    "from scipy.stats import norm\n",
    "\n",
    "from clintrials.dosefinding.efftox import EffTox, LpNormCurve"
   ]
  },
  {
   "cell_type": "code",
   "execution_count": 2,
   "metadata": {
    "collapsed": true
   },
   "outputs": [],
   "source": [
    "real_doses = [7.5, 15, 30, 45]\n",
    "trial_size = 30\n",
    "cohort_size = 3\n",
    "first_dose = 3\n",
    "prior_tox_probs = (0.025, 0.05, 0.1, 0.25)\n",
    "prior_eff_probs = (0.2, 0.3, 0.5, 0.6)\n",
    "tox_cutoff = 0.40\n",
    "eff_cutoff = 0.45\n",
    "tox_certainty = 0.05\n",
    "eff_certainty = 0.03"
   ]
  },
  {
   "cell_type": "code",
   "execution_count": 3,
   "metadata": {
    "collapsed": true
   },
   "outputs": [],
   "source": [
    "mu_t_mean, mu_t_sd = -5.4317, 2.7643\n",
    "beta_t_mean, beta_t_sd = 3.1761, 2.7703\n",
    "mu_e_mean, mu_e_sd = -0.8442, 1.9786\n",
    "beta_e_1_mean, beta_e_1_sd = 1.9857, 1.9820\n",
    "beta_e_2_mean, beta_e_2_sd = 0, 0.2\n",
    "psi_mean, psi_sd = 0, 1\n",
    "efftox_priors = [\n",
    "    norm(loc=mu_t_mean, scale=mu_t_sd),\n",
    "    norm(loc=beta_t_mean, scale=beta_t_sd),\n",
    "    norm(loc=mu_e_mean, scale=mu_e_sd),\n",
    "    norm(loc=beta_e_1_mean, scale=beta_e_1_sd),\n",
    "    norm(loc=beta_e_2_mean, scale=beta_e_2_sd),\n",
    "    norm(loc=psi_mean, scale=psi_sd),\n",
    "    ]"
   ]
  },
  {
   "cell_type": "markdown",
   "metadata": {},
   "source": [
    "The above parameters are explained in the manuscript."
   ]
  },
  {
   "cell_type": "code",
   "execution_count": 4,
   "metadata": {
    "collapsed": true
   },
   "outputs": [],
   "source": [
    "hinge_points = [(0.4, 0), (1, 0.7), (0.5, 0.4)]\n",
    "metric = LpNormCurve(hinge_points[0][0], hinge_points[1][1], hinge_points[2][0], hinge_points[2][1])"
   ]
  },
  {
   "cell_type": "code",
   "execution_count": 5,
   "metadata": {
    "collapsed": true
   },
   "outputs": [],
   "source": [
    "et = EffTox(real_doses, efftox_priors, tox_cutoff, eff_cutoff, tox_certainty, eff_certainty, metric, trial_size,\n",
    "            first_dose)"
   ]
  },
  {
   "cell_type": "markdown",
   "metadata": {},
   "source": [
    "The EffTox class is an object-oriented implementation of the trial design by Thall & Cook (Thall, P. F., & Cook, J. D. (2004). Dose-Finding Based on Efficacy-Toxicity Trade-Offs. Biometrics, 60(3), 684–693.)"
   ]
  },
  {
   "cell_type": "markdown",
   "metadata": {},
   "source": [
    "## Dose ambivalence after 3NTE"
   ]
  },
  {
   "cell_type": "markdown",
   "metadata": {},
   "source": [
    "Outcomes for a patient are represented by a three item tuple, where:\n",
    "\n",
    "- first item is 1-based dose-index give (i.e. 3 is dose-level 3);\n",
    "- second item is 1 if toxicity happened, else 0;\n",
    "- third item is 1 if efficacy happened, else 0.\n",
    "\n",
    "Outcomes for several patients are represented as lists:"
   ]
  },
  {
   "cell_type": "code",
   "execution_count": 42,
   "metadata": {
    "collapsed": true
   },
   "outputs": [],
   "source": [
    "outcomes = [(3, 0, 0), (3, 1, 0), (3, 0, 1)]"
   ]
  },
  {
   "cell_type": "code",
   "execution_count": 43,
   "metadata": {
    "collapsed": false
   },
   "outputs": [
    {
     "data": {
      "text/plain": [
       "3"
      ]
     },
     "execution_count": 43,
     "metadata": {},
     "output_type": "execute_result"
    }
   ],
   "source": [
    "et.reset()\n",
    "np.random.seed(123)\n",
    "et.update(outcomes)"
   ]
  },
  {
   "cell_type": "markdown",
   "metadata": {},
   "source": [
    "So, using seed 123, dose-level 3 is recommended to be given to the next patient after oberving 3NTE in the first cohort of patients. Fair enough."
   ]
  },
  {
   "cell_type": "code",
   "execution_count": 44,
   "metadata": {
    "collapsed": false
   },
   "outputs": [
    {
     "data": {
      "text/plain": [
       "4"
      ]
     },
     "execution_count": 44,
     "metadata": {},
     "output_type": "execute_result"
    }
   ],
   "source": [
    "et.reset()\n",
    "np.random.seed(321)\n",
    "et.update(outcomes)"
   ]
  },
  {
   "cell_type": "markdown",
   "metadata": {},
   "source": [
    "Wait...using seed 321, that advice is now dose-level 4. I need a single answer. What should I do?"
   ]
  },
  {
   "cell_type": "markdown",
   "metadata": {},
   "source": [
    "Let's define a simple function to calculate next dose based on some outcomes:"
   ]
  },
  {
   "cell_type": "code",
   "execution_count": 45,
   "metadata": {
    "collapsed": true
   },
   "outputs": [],
   "source": [
    "def get_next_dose(trial, outcomes, **kwargs):\n",
    "    trial.reset()\n",
    "    next_dose = trial.update(outcomes, **kwargs)\n",
    "    return next_dose"
   ]
  },
  {
   "cell_type": "markdown",
   "metadata": {},
   "source": [
    "And then run that a number of times. For indication, 100 iterations will suffice (it takes a wee while...). In practice, you might use more iterations."
   ]
  },
  {
   "cell_type": "code",
   "execution_count": 46,
   "metadata": {
    "collapsed": false
   },
   "outputs": [],
   "source": [
    "np.random.seed(123)\n",
    "replicates = [get_next_dose(et, outcomes, n=10**5) for i in range(100)]"
   ]
  },
  {
   "cell_type": "code",
   "execution_count": 47,
   "metadata": {
    "collapsed": false
   },
   "outputs": [
    {
     "data": {
      "text/plain": [
       "[(3, 0.56000000000000005), (4, 0.44)]"
      ]
     },
     "execution_count": 47,
     "metadata": {},
     "output_type": "execute_result"
    }
   ],
   "source": [
    "doses, freq = np.unique(replicates, return_counts=True)\n",
    "list(zip(doses, 1.0 * freq / len(replicates)))"
   ]
  },
  {
   "cell_type": "markdown",
   "metadata": {},
   "source": [
    "So, dose 3 gets recommended in 56% of iterations; slightly more frequently dose 4. This is useful information. The lack of a strong consensus here would suggest that clinical opinion should be used to select the next dose from doses 3 and 4. Had the split been 90:10, we might have been more inclined to go with the majority decision."
   ]
  },
  {
   "cell_type": "code",
   "execution_count": null,
   "metadata": {
    "collapsed": true
   },
   "outputs": [],
   "source": []
  }
 ],
 "metadata": {
  "kernelspec": {
   "display_name": "Python 2",
   "language": "python",
   "name": "python2"
  },
  "language_info": {
   "codemirror_mode": {
    "name": "ipython",
    "version": 2
   },
   "file_extension": ".py",
   "mimetype": "text/x-python",
   "name": "python",
   "nbconvert_exporter": "python",
   "pygments_lexer": "ipython2",
   "version": "2.7.11"
  }
 },
 "nbformat": 4,
 "nbformat_minor": 0
}
