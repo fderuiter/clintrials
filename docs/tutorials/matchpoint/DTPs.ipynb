{
 "cells": [
  {
   "cell_type": "markdown",
   "metadata": {},
   "source": [
    "# Implementing the EffTox Dose-Finding Design in the Matchpoint Trials"
   ]
  },
  {
   "cell_type": "markdown",
   "metadata": {},
   "source": [
    "This tutorial complements the manuscript _Implementing the EffTox Dose-Finding Design in the Matchpoint Trial_ (Brock _et al_.,in submission). Please consult the paper for the clinical background, the methodology details, and full explanation of the terminology."
   ]
  },
  {
   "cell_type": "markdown",
   "metadata": {},
   "source": [
    "## Dose Transition Pathways"
   ]
  },
  {
   "cell_type": "markdown",
   "metadata": {},
   "source": [
    "In this notebook, we illustrate the calculation of _dose transition pathways_ (DTPs) in the seamless phase I/II dose-finding clinical trial, Matchpoint."
   ]
  },
  {
   "cell_type": "code",
   "execution_count": 1,
   "metadata": {
    "collapsed": true
   },
   "outputs": [],
   "source": [
    "import numpy as np\n",
    "from scipy.stats import norm\n",
    "\n",
    "from clintrials.dosefinding.efftox import EffTox, LpNormCurve, efftox_dtp_detail\n",
    "from clintrials.dosefinding.efficacytoxicity import dose_transition_pathways, print_dtps"
   ]
  },
  {
   "cell_type": "code",
   "execution_count": 2,
   "metadata": {
    "collapsed": true
   },
   "outputs": [],
   "source": [
    "real_doses = [7.5, 15, 30, 45]\n",
    "trial_size = 30\n",
    "cohort_size = 3\n",
    "first_dose = 3\n",
    "prior_tox_probs = (0.025, 0.05, 0.1, 0.25)\n",
    "prior_eff_probs = (0.2, 0.3, 0.5, 0.6)\n",
    "tox_cutoff = 0.40\n",
    "eff_cutoff = 0.45\n",
    "tox_certainty = 0.05\n",
    "eff_certainty = 0.03"
   ]
  },
  {
   "cell_type": "code",
   "execution_count": 3,
   "metadata": {
    "collapsed": true
   },
   "outputs": [],
   "source": [
    "mu_t_mean, mu_t_sd = -5.4317, 2.7643\n",
    "beta_t_mean, beta_t_sd = 3.1761, 2.7703\n",
    "mu_e_mean, mu_e_sd = -0.8442, 1.9786\n",
    "beta_e_1_mean, beta_e_1_sd = 1.9857, 1.9820\n",
    "beta_e_2_mean, beta_e_2_sd = 0, 0.2\n",
    "psi_mean, psi_sd = 0, 1\n",
    "efftox_priors = [\n",
    "    norm(loc=mu_t_mean, scale=mu_t_sd),\n",
    "    norm(loc=beta_t_mean, scale=beta_t_sd),\n",
    "    norm(loc=mu_e_mean, scale=mu_e_sd),\n",
    "    norm(loc=beta_e_1_mean, scale=beta_e_1_sd),\n",
    "    norm(loc=beta_e_2_mean, scale=beta_e_2_sd),\n",
    "    norm(loc=psi_mean, scale=psi_sd),\n",
    "    ]"
   ]
  },
  {
   "cell_type": "markdown",
   "metadata": {},
   "source": [
    "The above parameters are explained in the manuscript."
   ]
  },
  {
   "cell_type": "code",
   "execution_count": 4,
   "metadata": {
    "collapsed": true
   },
   "outputs": [],
   "source": [
    "hinge_points = [(0.4, 0), (1, 0.7), (0.5, 0.4)]\n",
    "metric = LpNormCurve(hinge_points[0][0], hinge_points[1][1], hinge_points[2][0], hinge_points[2][1])"
   ]
  },
  {
   "cell_type": "code",
   "execution_count": 5,
   "metadata": {
    "collapsed": true
   },
   "outputs": [],
   "source": [
    "et = EffTox(real_doses, efftox_priors, tox_cutoff, eff_cutoff, tox_certainty, eff_certainty, metric, trial_size,\n",
    "            first_dose)"
   ]
  },
  {
   "cell_type": "markdown",
   "metadata": {},
   "source": [
    "The EffTox class is an object-oriented implementation of the trial design by Thall & Cook (Thall, P. F., & Cook, J. D. (2004). Dose-Finding Based on Efficacy-Toxicity Trade-Offs. Biometrics, 60(3), 684–693.)"
   ]
  },
  {
   "cell_type": "markdown",
   "metadata": {},
   "source": [
    "Create patient outcomes 3TTT. Outcomes for a patient are represented by a three item tuple, where:\n",
    "\n",
    "- first item is 1-based dose-index give (i.e. 3 is dose-level 3);\n",
    "- second item is 1 if toxicity happened, else 0;\n",
    "- third item is 1 if efficacy happened, else 0.\n",
    "\n",
    "Outcomes for several patients are represented as lists:"
   ]
  },
  {
   "cell_type": "code",
   "execution_count": 6,
   "metadata": {
    "collapsed": true
   },
   "outputs": [],
   "source": [
    "outcomes = [(3, 1, 0), (3, 1, 0), (3, 1, 0)]"
   ]
  },
  {
   "cell_type": "code",
   "execution_count": 7,
   "metadata": {
    "collapsed": false
   },
   "outputs": [
    {
     "data": {
      "text/plain": [
       "2"
      ]
     },
     "execution_count": 7,
     "metadata": {},
     "output_type": "execute_result"
    }
   ],
   "source": [
    "np.random.seed(123)\n",
    "et.update(outcomes)"
   ]
  },
  {
   "cell_type": "markdown",
   "metadata": {},
   "source": [
    "The next dose recommended is 2.\n",
    "\n",
    "Calculate DTPs for the next cohort of three patients. n=100,000 will give a fairly quick and dirty estimate of the DTPs."
   ]
  },
  {
   "cell_type": "code",
   "execution_count": 8,
   "metadata": {
    "collapsed": false
   },
   "outputs": [],
   "source": [
    "np.random.seed(123)\n",
    "dtps = dose_transition_pathways(et, next_dose=2, cohort_sizes=[3], cohort_number=2, \n",
    "                                cases_already_observed=outcomes, custom_output_func=efftox_dtp_detail,\n",
    "                                n=10**5)"
   ]
  },
  {
   "cell_type": "code",
   "execution_count": 9,
   "metadata": {
    "collapsed": false
   },
   "outputs": [
    {
     "name": "stdout",
     "output_type": "stream",
     "text": [
      "2NNN -> Dose 3, Superiority=0.11 * tentative *\n",
      "2NNE -> Dose 1, Superiority=0.57 * tentative *\n",
      "2NNT -> Dose -1, Superiority=nan\n",
      "2NNB -> Dose 1, Superiority=0.47 * tentative *\n",
      "2NEE -> Dose 1, Superiority=0.64\n",
      "2NET -> Dose 1, Superiority=0.58 * tentative *\n",
      "2NEB -> Dose 1, Superiority=0.69\n",
      "2NTT -> Dose -1, Superiority=nan\n",
      "2NTB -> Dose 1, Superiority=0.6\n",
      "2NBB -> Dose 1, Superiority=0.86\n",
      "2EEE -> Dose 1, Superiority=0.86\n",
      "2EET -> Dose 1, Superiority=0.66\n",
      "2EEB -> Dose 1, Superiority=0.9\n",
      "2ETT -> Dose 1, Superiority=0.7\n",
      "2ETB -> Dose 1, Superiority=0.81\n",
      "2EBB -> Dose 1, Superiority=0.9\n",
      "2TTT -> Dose -1, Superiority=nan\n",
      "2TTB -> Dose 1, Superiority=0.65\n",
      "2TBB -> Dose 1, Superiority=0.8\n",
      "2BBB -> Dose 1, Superiority=0.87\n"
     ]
    }
   ],
   "source": [
    "print_dtps(dtps)"
   ]
  },
  {
   "cell_type": "markdown",
   "metadata": {},
   "source": [
    "These match Table 3 in the publication.\n",
    "\n",
    "_Superiority_ is the least of the three pairwise probabilities that the utility of the recommended dose is greater than each of the other doses.\n",
    "Ideally, we want Superiority to be high to be confident that the dose recommended genuinely has the highest utility.\n",
    "Scenarios where Superiority is less than 0.6 are marked as _tentative_.\n",
    "Dose ambivalence may be a problem here.\n",
    "Sometimes, the design may be restricted from recommending the best dose because of no-skipping rules and dose-inadmissibility.\n",
    "\n",
    "Using n=1,000,000 will be appreciably slower for 20 paths, but will be more accurate:"
   ]
  },
  {
   "cell_type": "code",
   "execution_count": 10,
   "metadata": {
    "collapsed": true
   },
   "outputs": [],
   "source": [
    "dtps2 = dose_transition_pathways(et, next_dose=2, cohort_sizes=[3], cohort_number=2, \n",
    "                                 cases_already_observed=outcomes, custom_output_func=efftox_dtp_detail,\n",
    "                                 n=10**6)"
   ]
  },
  {
   "cell_type": "code",
   "execution_count": 11,
   "metadata": {
    "collapsed": false
   },
   "outputs": [
    {
     "name": "stdout",
     "output_type": "stream",
     "text": [
      "2NNN -> Dose 3, Superiority=0.16 * tentative *\n",
      "2NNE -> Dose 1, Superiority=0.44 * tentative *\n",
      "2NNT -> Dose -1, Superiority=nan\n",
      "2NNB -> Dose 1, Superiority=0.52 * tentative *\n",
      "2NEE -> Dose 1, Superiority=0.62\n",
      "2NET -> Dose 1, Superiority=0.6\n",
      "2NEB -> Dose 1, Superiority=0.68\n",
      "2NTT -> Dose -1, Superiority=nan\n",
      "2NTB -> Dose 1, Superiority=0.76\n",
      "2NBB -> Dose 1, Superiority=0.81\n",
      "2EEE -> Dose 1, Superiority=0.78\n",
      "2EET -> Dose 1, Superiority=0.7\n",
      "2EEB -> Dose 1, Superiority=0.84\n",
      "2ETT -> Dose 1, Superiority=0.74\n",
      "2ETB -> Dose 1, Superiority=0.82\n",
      "2EBB -> Dose 1, Superiority=0.88\n",
      "2TTT -> Dose -1, Superiority=nan\n",
      "2TTB -> Dose 1, Superiority=0.74\n",
      "2TBB -> Dose 1, Superiority=0.8\n",
      "2BBB -> Dose 1, Superiority=0.89\n"
     ]
    }
   ],
   "source": [
    "print_dtps(dtps2)"
   ]
  },
  {
   "cell_type": "markdown",
   "metadata": {},
   "source": [
    "Again, these match Table 3."
   ]
  },
  {
   "cell_type": "markdown",
   "metadata": {
    "collapsed": true
   },
   "source": [
    "We use DTPs continuously in the running of the Matchpoint trial. They aid in planning, they help to overcome outcome ambiguity, they have highlighted hidden undesirable behaviour implicit in out parameter choices, etc."
   ]
  },
  {
   "cell_type": "code",
   "execution_count": null,
   "metadata": {
    "collapsed": true
   },
   "outputs": [],
   "source": []
  }
 ],
 "metadata": {
  "anaconda-cloud": {},
  "kernelspec": {
   "display_name": "Python 2",
   "language": "python",
   "name": "python2"
  },
  "language_info": {
   "codemirror_mode": {
    "name": "ipython",
    "version": 2
   },
   "file_extension": ".py",
   "mimetype": "text/x-python",
   "name": "python",
   "nbconvert_exporter": "python",
   "pygments_lexer": "ipython2",
   "version": "2.7.11"
  }
 },
 "nbformat": 4,
 "nbformat_minor": 0
}
