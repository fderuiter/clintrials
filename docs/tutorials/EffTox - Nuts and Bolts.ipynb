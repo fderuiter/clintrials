{
 "cells": [
  {
   "cell_type": "markdown",
   "metadata": {},
   "source": [
    "# EffTox - Nuts and Bolts"
   ]
  },
  {
   "cell_type": "markdown",
   "metadata": {},
   "source": [
    "This notebook demonstrates the nuts and bolts of EffTox, the technical details rather than the general user interface. For example, I use it to check calculations in implementations in other languages. For a general EffTox usage tutorial, use EffTox.ipynb."
   ]
  },
  {
   "cell_type": "code",
   "execution_count": 1,
   "metadata": {
    "collapsed": true
   },
   "outputs": [],
   "source": [
    "import numpy as np"
   ]
  },
  {
   "cell_type": "code",
   "execution_count": 2,
   "metadata": {
    "collapsed": true
   },
   "outputs": [],
   "source": [
    "from clintrials.dosefinding.efftox import _pi_E, _pi_T, _pi_ab, _L_n, scale_doses"
   ]
  },
  {
   "cell_type": "markdown",
   "metadata": {},
   "source": [
    "In the Matchpoint trial, the daily doses of Ponatinib under investigation were:\n",
    "\n",
    "- 7.5mg\n",
    "- 15mg\n",
    "- 30mg\n",
    "- 45mg"
   ]
  },
  {
   "cell_type": "code",
   "execution_count": 3,
   "metadata": {
    "collapsed": true
   },
   "outputs": [],
   "source": [
    "real_doses = [7.5, 15, 30, 45]"
   ]
  },
  {
   "cell_type": "code",
   "execution_count": 4,
   "metadata": {
    "collapsed": true
   },
   "outputs": [],
   "source": [
    "scaled_doses = scale_doses(real_doses)"
   ]
  },
  {
   "cell_type": "code",
   "execution_count": 5,
   "metadata": {
    "collapsed": false
   },
   "outputs": [
    {
     "data": {
      "text/plain": [
       "array([-0.96780025, -0.27465307,  0.41849411,  0.82395922])"
      ]
     },
     "execution_count": 5,
     "metadata": {},
     "output_type": "execute_result"
    }
   ],
   "source": [
    "scaled_doses"
   ]
  },
  {
   "cell_type": "markdown",
   "metadata": {},
   "source": [
    "Create some notional values for the two coefficients in the toxicity logit:"
   ]
  },
  {
   "cell_type": "code",
   "execution_count": 6,
   "metadata": {
    "collapsed": true
   },
   "outputs": [],
   "source": [
    "alpha0 = np.array([0.0, 1.0, 0.2])\n",
    "alpha1 = np.array([1.0, -0.5, -1.0])"
   ]
  },
  {
   "cell_type": "code",
   "execution_count": 7,
   "metadata": {
    "collapsed": false
   },
   "outputs": [
    {
     "data": {
      "text/plain": [
       "array([ 0.43176513,  0.75718845,  0.61648448])"
      ]
     },
     "execution_count": 7,
     "metadata": {},
     "output_type": "execute_result"
    }
   ],
   "source": [
    "_pi_T(scaled_doses[1], alpha0, alpha1)"
   ]
  },
  {
   "cell_type": "code",
   "execution_count": 8,
   "metadata": {
    "collapsed": false
   },
   "outputs": [
    {
     "data": {
      "text/plain": [
       "array([ 0.69507612,  0.6429108 ,  0.34888153])"
      ]
     },
     "execution_count": 8,
     "metadata": {},
     "output_type": "execute_result"
    }
   ],
   "source": [
    "_pi_T(scaled_doses[3], alpha0, alpha1)"
   ]
  },
  {
   "cell_type": "markdown",
   "metadata": {},
   "source": [
    "Create some notional values for the three coefficients in the efficacy logit:"
   ]
  },
  {
   "cell_type": "code",
   "execution_count": 9,
   "metadata": {
    "collapsed": true
   },
   "outputs": [],
   "source": [
    "beta0 = np.array([-0.5, -1.0, 0.2])\n",
    "beta1 = np.array([-1.0, -2.0, 1.0])\n",
    "beta2 = np.array([0.1, 0.2, -0.1])"
   ]
  },
  {
   "cell_type": "code",
   "execution_count": 10,
   "metadata": {
    "collapsed": false
   },
   "outputs": [
    {
     "data": {
      "text/plain": [
       "array([ 0.63679121,  0.75453142,  0.29703357])"
      ]
     },
     "execution_count": 10,
     "metadata": {},
     "output_type": "execute_result"
    }
   ],
   "source": [
    "_pi_E(scaled_doses[0], beta0, beta1, beta2)"
   ]
  },
  {
   "cell_type": "code",
   "execution_count": 11,
   "metadata": {
    "collapsed": false
   },
   "outputs": [
    {
     "data": {
      "text/plain": [
       "array([ 0.28884907,  0.14161255,  0.64588057])"
      ]
     },
     "execution_count": 11,
     "metadata": {},
     "output_type": "execute_result"
    }
   ],
   "source": [
    "_pi_E(scaled_doses[2], beta0, beta1, beta2)"
   ]
  },
  {
   "cell_type": "markdown",
   "metadata": {},
   "source": [
    "Create some notional values for psi"
   ]
  },
  {
   "cell_type": "code",
   "execution_count": 12,
   "metadata": {
    "collapsed": true
   },
   "outputs": [],
   "source": [
    "psi = np.array([-5.0, 0.7, 5.0])"
   ]
  },
  {
   "cell_type": "markdown",
   "metadata": {},
   "source": [
    "Join it all up"
   ]
  },
  {
   "cell_type": "code",
   "execution_count": 13,
   "metadata": {
    "collapsed": false
   },
   "outputs": [
    {
     "data": {
      "text/plain": [
       "array([ 0.50699895,  0.1300797 ,  0.03319174])"
      ]
     },
     "execution_count": 13,
     "metadata": {},
     "output_type": "execute_result"
    }
   ],
   "source": [
    "_pi_ab(scaled_doses[0], 0, 1, alpha0, alpha1, beta0, beta1, beta2, psi)"
   ]
  },
  {
   "cell_type": "code",
   "execution_count": 14,
   "metadata": {
    "collapsed": false
   },
   "outputs": [
    {
     "data": {
      "text/plain": [
       "array([ 0.22272268,  0.0886512 ,  0.23205335])"
      ]
     },
     "execution_count": 14,
     "metadata": {},
     "output_type": "execute_result"
    }
   ],
   "source": [
    "_pi_ab(scaled_doses[2], 1, 1, alpha0, alpha1, beta0, beta1, beta2, psi)"
   ]
  },
  {
   "cell_type": "markdown",
   "metadata": {},
   "source": [
    "Now create some notional cases: 1N 2E 3T, using the nomenclature of _Implementing the EffTox dose-finding design in the Matrchpoint trial_, by Brock _et al_."
   ]
  },
  {
   "cell_type": "code",
   "execution_count": 15,
   "metadata": {
    "collapsed": false
   },
   "outputs": [],
   "source": [
    "X = [(scaled_doses[0], 0, 0), (scaled_doses[1], 0, 1), (scaled_doses[2], 1, 0)]"
   ]
  },
  {
   "cell_type": "markdown",
   "metadata": {},
   "source": [
    "Calculate the compound likelihood under the parameter combinations"
   ]
  },
  {
   "cell_type": "code",
   "execution_count": 16,
   "metadata": {
    "collapsed": false
   },
   "outputs": [
    {
     "data": {
      "text/plain": [
       "array([ 0.0461508 ,  0.0016879 ,  0.00166065])"
      ]
     },
     "execution_count": 16,
     "metadata": {},
     "output_type": "execute_result"
    }
   ],
   "source": [
    "_L_n(X, alpha0, alpha1, beta0, beta1, beta2, psi)"
   ]
  },
  {
   "cell_type": "markdown",
   "metadata": {},
   "source": [
    "What do these \"nuts and bolts\" contribute to? "
   ]
  },
  {
   "cell_type": "code",
   "execution_count": 17,
   "metadata": {
    "collapsed": true
   },
   "outputs": [],
   "source": [
    "from clintrials.dosefinding.efftox import efftox_get_posterior_probs, efftox_get_posterior_params"
   ]
  },
  {
   "cell_type": "code",
   "execution_count": 18,
   "metadata": {
    "collapsed": true
   },
   "outputs": [],
   "source": [
    "cases = [(1, 0, 0), (2, 0, 1), (3, 1, 0)]"
   ]
  },
  {
   "cell_type": "code",
   "execution_count": 19,
   "metadata": {
    "collapsed": true
   },
   "outputs": [],
   "source": [
    "from scipy.stats import norm"
   ]
  },
  {
   "cell_type": "code",
   "execution_count": 20,
   "metadata": {
    "collapsed": true
   },
   "outputs": [],
   "source": [
    "mu_t_mean, mu_t_sd = -5.4317, 2.7643\n",
    "beta_t_mean, beta_t_sd = 3.1761, 2.7703\n",
    "mu_e_mean, mu_e_sd = -0.8442, 1.9786\n",
    "beta_e_1_mean, beta_e_1_sd = 1.9857, 1.9820\n",
    "beta_e_2_mean, beta_e_2_sd = 0, 0.2\n",
    "psi_mean, psi_sd = 0, 1\n",
    "priors = [\n",
    "    norm(loc=mu_t_mean, scale=mu_t_sd),\n",
    "    norm(loc=beta_t_mean, scale=beta_t_sd),\n",
    "    norm(loc=mu_e_mean, scale=mu_e_sd),\n",
    "    norm(loc=beta_e_1_mean, scale=beta_e_1_sd),\n",
    "    norm(loc=beta_e_2_mean, scale=beta_e_2_sd),\n",
    "    norm(loc=psi_mean, scale=psi_sd),\n",
    "    ]"
   ]
  },
  {
   "cell_type": "code",
   "execution_count": 21,
   "metadata": {
    "collapsed": false
   },
   "outputs": [],
   "source": [
    "np.random.seed(123)\n",
    "probs, thing = efftox_get_posterior_probs(cases, priors, scaled_doses, tox_cutoff=0.4, eff_cutoff=0.45, n=10**6)"
   ]
  },
  {
   "cell_type": "code",
   "execution_count": 22,
   "metadata": {
    "collapsed": true
   },
   "outputs": [],
   "source": [
    "prob_tox, prob_eff, prob_acc_tox, prob_acc_eff = zip(*probs)"
   ]
  },
  {
   "cell_type": "code",
   "execution_count": 23,
   "metadata": {
    "collapsed": false
   },
   "outputs": [
    {
     "data": {
      "text/plain": [
       "(0.018196222456040894,\n",
       " 0.077553494319095986,\n",
       " 0.46887905231555532,\n",
       " 0.7362166520914275)"
      ]
     },
     "execution_count": 23,
     "metadata": {},
     "output_type": "execute_result"
    }
   ],
   "source": [
    "prob_tox"
   ]
  },
  {
   "cell_type": "code",
   "execution_count": 24,
   "metadata": {
    "collapsed": false
   },
   "outputs": [
    {
     "data": {
      "text/plain": [
       "(0.99320475928614682,\n",
       " 0.96901298353152288,\n",
       " 0.47169110764562977,\n",
       " 0.15821473148281351)"
      ]
     },
     "execution_count": 24,
     "metadata": {},
     "output_type": "execute_result"
    }
   ],
   "source": [
    "prob_acc_tox"
   ]
  },
  {
   "cell_type": "code",
   "execution_count": 25,
   "metadata": {
    "collapsed": false
   },
   "outputs": [
    {
     "data": {
      "text/plain": [
       "(0.22013447186187166,\n",
       " 0.30243690338867141,\n",
       " 0.4600635818911748,\n",
       " 0.54455913160027725)"
      ]
     },
     "execution_count": 25,
     "metadata": {},
     "output_type": "execute_result"
    }
   ],
   "source": [
    "prob_eff"
   ]
  },
  {
   "cell_type": "code",
   "execution_count": 26,
   "metadata": {
    "collapsed": false
   },
   "outputs": [
    {
     "data": {
      "text/plain": [
       "(0.17175012210796936,\n",
       " 0.23131955018761038,\n",
       " 0.47183893926980514,\n",
       " 0.61438570166558037)"
      ]
     },
     "execution_count": 26,
     "metadata": {},
     "output_type": "execute_result"
    }
   ],
   "source": [
    "prob_acc_eff"
   ]
  },
  {
   "cell_type": "markdown",
   "metadata": {},
   "source": [
    "### Higher precision"
   ]
  },
  {
   "cell_type": "markdown",
   "metadata": {},
   "source": [
    "Warning: this takes a while and peaks memory usage (on my machine) at roughly 1Gb"
   ]
  },
  {
   "cell_type": "code",
   "execution_count": 46,
   "metadata": {
    "collapsed": true
   },
   "outputs": [],
   "source": [
    "np.random.seed(123)\n",
    "probs, thing = efftox_get_posterior_probs(cases, priors, scaled_doses, tox_cutoff=0.4, eff_cutoff=0.45, n=10**7)"
   ]
  },
  {
   "cell_type": "code",
   "execution_count": 48,
   "metadata": {
    "collapsed": true
   },
   "outputs": [],
   "source": [
    "prob_tox, prob_eff, prob_acc_tox, prob_acc_eff = zip(*probs)"
   ]
  },
  {
   "cell_type": "code",
   "execution_count": 49,
   "metadata": {
    "collapsed": false
   },
   "outputs": [
    {
     "data": {
      "text/plain": [
       "(0.017721596042804065,\n",
       " 0.077300802973282567,\n",
       " 0.47664283361147941,\n",
       " 0.74481378531497666)"
      ]
     },
     "execution_count": 49,
     "metadata": {},
     "output_type": "execute_result"
    }
   ],
   "source": [
    "prob_tox"
   ]
  },
  {
   "cell_type": "code",
   "execution_count": 50,
   "metadata": {
    "collapsed": false
   },
   "outputs": [
    {
     "data": {
      "text/plain": [
       "(0.99364311416251194,\n",
       " 0.96463287117519392,\n",
       " 0.43994562896133421,\n",
       " 0.156595042211854)"
      ]
     },
     "execution_count": 50,
     "metadata": {},
     "output_type": "execute_result"
    }
   ],
   "source": [
    "prob_acc_tox"
   ]
  },
  {
   "cell_type": "code",
   "execution_count": 51,
   "metadata": {
    "collapsed": false
   },
   "outputs": [
    {
     "data": {
      "text/plain": [
       "(0.21301090872543804,\n",
       " 0.2985971523841035,\n",
       " 0.45994786342568222,\n",
       " 0.54434065144599786)"
      ]
     },
     "execution_count": 51,
     "metadata": {},
     "output_type": "execute_result"
    }
   ],
   "source": [
    "prob_eff"
   ]
  },
  {
   "cell_type": "code",
   "execution_count": 52,
   "metadata": {
    "collapsed": false
   },
   "outputs": [
    {
     "data": {
      "text/plain": [
       "(0.15485703706407367,\n",
       " 0.2318339137152034,\n",
       " 0.48924984978095742,\n",
       " 0.60206723461811928)"
      ]
     },
     "execution_count": 52,
     "metadata": {},
     "output_type": "execute_result"
    }
   ],
   "source": [
    "prob_acc_eff"
   ]
  },
  {
   "cell_type": "code",
   "execution_count": 54,
   "metadata": {
    "collapsed": false
   },
   "outputs": [
    {
     "data": {
      "text/plain": [
       "([(-2.2703011519429555,\n",
       "   5.1516424515286898,\n",
       "   -0.75467247679595473,\n",
       "   1.2708491348927389,\n",
       "   -0.0091021824701728229,\n",
       "   -0.10086623116956173)],\n",
       " <clintrials.stats.ProbabilityDensitySample instance at 0x10da183b0>)"
      ]
     },
     "execution_count": 54,
     "metadata": {},
     "output_type": "execute_result"
    }
   ],
   "source": [
    "efftox_get_posterior_params(cases, priors, scaled_doses, n=10**7)"
   ]
  },
  {
   "cell_type": "code",
   "execution_count": null,
   "metadata": {
    "collapsed": true
   },
   "outputs": [],
   "source": []
  }
 ],
 "metadata": {
  "anaconda-cloud": {},
  "kernelspec": {
   "display_name": "Python [Root]",
   "language": "python",
   "name": "Python [Root]"
  },
  "language_info": {
   "codemirror_mode": {
    "name": "ipython",
    "version": 3
   },
   "file_extension": ".py",
   "mimetype": "text/x-python",
   "name": "python",
   "nbconvert_exporter": "python",
   "pygments_lexer": "ipython3",
   "version": "3.5.1"
  }
 },
 "nbformat": 4,
 "nbformat_minor": 0
}
